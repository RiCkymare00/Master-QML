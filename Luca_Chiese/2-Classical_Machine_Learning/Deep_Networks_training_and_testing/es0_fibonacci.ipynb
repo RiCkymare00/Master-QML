{
  "nbformat": 4,
  "nbformat_minor": 0,
  "metadata": {
    "colab": {
      "provenance": []
    },
    "kernelspec": {
      "name": "python3",
      "display_name": "Python 3"
    },
    "language_info": {
      "name": "python"
    }
  },
  "cells": [
    {
      "cell_type": "markdown",
      "source": [
        "# Fibonacci Simple Example Training"
      ],
      "metadata": {
        "id": "IMnGvwd5a8qq"
      }
    },
    {
      "cell_type": "markdown",
      "source": [
        "### Step0: Import dependencies"
      ],
      "metadata": {
        "id": "2nvagF-zagn4"
      }
    },
    {
      "cell_type": "code",
      "execution_count": null,
      "metadata": {
        "id": "z2h1ISIyaKDT"
      },
      "outputs": [],
      "source": [
        "import torch\n",
        "import torch.nn as nn\n",
        "import torch.optim as optim\n",
        "import torch.nn.functional as F"
      ]
    },
    {
      "cell_type": "markdown",
      "source": [
        "### Step1: Get the data"
      ],
      "metadata": {
        "id": "4KT5FbeRbR9o"
      }
    },
    {
      "cell_type": "code",
      "source": [
        "train_features, train_targets = [], []\n",
        "test_features, test_targets = [], []\n",
        "\n",
        "\n",
        "# generate fibonacci sequence pairs - train\n",
        "for i in range(7):\n",
        "  if i == 0:\n",
        "      train_features.append([i, 1.0])\n",
        "      train_targets.append([1.0])\n",
        "      continue\n",
        "\n",
        "  sum = train_features[-1][1] + train_targets[-1][0]\n",
        "  train_features.append([train_features[-1][1], train_targets[-1][0]])\n",
        "  train_targets.append([sum])\n",
        "\n",
        "# generate fibonacci sequence pairs - test (last index + 1)\n",
        "sum = train_features[-1][1] + train_targets[-1][0]\n",
        "test_features.append([train_features[-1][1], train_targets[-1][0]])\n",
        "test_targets.append([sum])\n",
        "\n",
        "print(f\"Train Features: {train_features}\")\n",
        "print(f\"Train Targets: {train_targets}\")\n",
        "print(f\"Test Features: {test_features}\")\n",
        "print(f\"Test Targets: {test_targets}\")\n"
      ],
      "metadata": {
        "colab": {
          "base_uri": "https://localhost:8080/"
        },
        "id": "-3RTIhkUCCXo",
        "outputId": "441b96d1-dc08-474f-883a-a1ed8b13b661"
      },
      "execution_count": null,
      "outputs": [
        {
          "output_type": "stream",
          "name": "stdout",
          "text": [
            "Train Features: [[0, 1.0], [1.0, 1.0], [1.0, 2.0], [2.0, 3.0], [3.0, 5.0], [5.0, 8.0], [8.0, 13.0]]\n",
            "Train Targets: [[1.0], [2.0], [3.0], [5.0], [8.0], [13.0], [21.0]]\n",
            "Test Features: [[13.0, 21.0]]\n",
            "Test Targets: [[34.0]]\n"
          ]
        }
      ]
    },
    {
      "cell_type": "code",
      "source": [
        "# TRAIN: Define your input and target tensors\n",
        "train_features_tensor = torch.tensor(train_features)\n",
        "train_target_tensor = torch.tensor(train_targets)\n",
        "\n",
        "# TESTING: Define your input and target tensors\n",
        "test_features_tensor = torch.tensor(test_features)\n",
        "test_target_tensor = torch.tensor(test_targets)\n",
        "\n",
        "# print shapes\n",
        "print(f\"Train Features Shape: {train_features_tensor.shape}\")\n",
        "print(f\"Train Targets Shape: {train_target_tensor.shape}\")\n",
        "\n",
        "print(f\"Test Features Shape: {test_features_tensor.shape}\")\n",
        "print(f\"Test Targets Shape: {test_target_tensor.shape}\")"
      ],
      "metadata": {
        "id": "Y3VZZT1VbYex",
        "colab": {
          "base_uri": "https://localhost:8080/"
        },
        "outputId": "af7bc722-4756-44f6-d979-03b21f630a9d"
      },
      "execution_count": null,
      "outputs": [
        {
          "output_type": "stream",
          "name": "stdout",
          "text": [
            "Train Features Shape: torch.Size([7, 2])\n",
            "Train Targets Shape: torch.Size([7, 1])\n",
            "Test Features Shape: torch.Size([1, 2])\n",
            "Test Targets Shape: torch.Size([1, 1])\n"
          ]
        }
      ]
    },
    {
      "cell_type": "markdown",
      "source": [
        "### Step3: Define the model"
      ],
      "metadata": {
        "id": "686znQnba6yO"
      }
    },
    {
      "cell_type": "code",
      "source": [
        "class LinearRegression(nn.Module):\n",
        "    def __init__(self):\n",
        "        super(LinearRegression, self).__init__()\n",
        "        self.linear = nn.Linear(2, 1)  # Two input feature and single output feature\n",
        "\n",
        "    def forward(self, x):\n",
        "        return self.linear(x)\n",
        "\n",
        "model1 = LinearRegression()"
      ],
      "metadata": {
        "id": "GiZCjiPUanGp"
      },
      "execution_count": null,
      "outputs": []
    },
    {
      "cell_type": "markdown",
      "source": [
        "### Step4: Define training params"
      ],
      "metadata": {
        "id": "07PDSKGYdYUJ"
      }
    },
    {
      "cell_type": "code",
      "source": [
        "# Define the loss function\n",
        "criterion = nn.MSELoss()\n",
        "\n",
        "# Define the optimizer (SGD with learning rate 0.01 and momentum 0.9)\n",
        "optimizer = optim.SGD(\n",
        "    [\n",
        "        {'params': model1.parameters()},\n",
        "    ],\n",
        "    lr=0.01,\n",
        "    momentum=0.9\n",
        ")"
      ],
      "metadata": {
        "id": "INs0G3FEbE4v"
      },
      "execution_count": null,
      "outputs": []
    },
    {
      "cell_type": "markdown",
      "source": [
        "### Step5: Train the model\n"
      ],
      "metadata": {
        "id": "2HDYKSONdpaP"
      }
    },
    {
      "cell_type": "code",
      "source": [
        "# Training loop\n",
        "for epoch in range(100):\n",
        "    # Forward pass\n",
        "    output_tensor1 = model1(train_features_tensor)\n",
        "\n",
        "    # Compute the loss\n",
        "    loss1 = criterion(output_tensor1, train_target_tensor)\n",
        "\n",
        "    # Backward pass and optimization\n",
        "    optimizer.zero_grad()  # Zero the gradients\n",
        "    loss1.backward()  # Compute the gradients for model1\n",
        "    optimizer.step()  # Update the models' parameters\n",
        "\n",
        "    # Print the losses for monitoring the training progress\n",
        "    print(f\"Epoch {epoch+1}, Loss 1: {loss1.item()}\")"
      ],
      "metadata": {
        "colab": {
          "base_uri": "https://localhost:8080/"
        },
        "id": "vHY3jUrHdovU",
        "outputId": "e86410f5-4f70-4832-c4d7-26a44f744d91"
      },
      "execution_count": null,
      "outputs": [
        {
          "output_type": "stream",
          "name": "stdout",
          "text": [
            "Epoch 1, Loss 1: 230.3173370361328\n",
            "Epoch 2, Loss 1: 1.7911735773086548\n",
            "Epoch 3, Loss 1: 217.1163330078125\n",
            "Epoch 4, Loss 1: 116.30753326416016\n",
            "Epoch 5, Loss 1: 20.252416610717773\n",
            "Epoch 6, Loss 1: 178.498779296875\n",
            "Epoch 7, Loss 1: 46.41602325439453\n",
            "Epoch 8, Loss 1: 42.120506286621094\n",
            "Epoch 9, Loss 1: 130.04551696777344\n",
            "Epoch 10, Loss 1: 11.777310371398926\n",
            "Epoch 11, Loss 1: 55.91259765625\n",
            "Epoch 12, Loss 1: 83.95417022705078\n",
            "Epoch 13, Loss 1: 0.5331249833106995\n",
            "Epoch 14, Loss 1: 58.725624084472656\n",
            "Epoch 15, Loss 1: 47.256168365478516\n",
            "Epoch 16, Loss 1: 1.7291996479034424\n",
            "Epoch 17, Loss 1: 52.58118438720703\n",
            "Epoch 18, Loss 1: 22.23237419128418\n",
            "Epoch 19, Loss 1: 7.269035339355469\n",
            "Epoch 20, Loss 1: 41.382904052734375\n",
            "Epoch 21, Loss 1: 7.865593910217285\n",
            "Epoch 22, Loss 1: 12.334762573242188\n",
            "Epoch 23, Loss 1: 28.91067123413086\n",
            "Epoch 24, Loss 1: 1.4707252979278564\n",
            "Epoch 25, Loss 1: 14.871468544006348\n",
            "Epoch 26, Loss 1: 17.833219528198242\n",
            "Epoch 27, Loss 1: 0.008300349116325378\n",
            "Epoch 28, Loss 1: 14.683920860290527\n",
            "Epoch 29, Loss 1: 9.487703323364258\n",
            "Epoch 30, Loss 1: 0.9002388119697571\n",
            "Epoch 31, Loss 1: 12.535234451293945\n",
            "Epoch 32, Loss 1: 4.110589504241943\n",
            "Epoch 33, Loss 1: 2.374962091445923\n",
            "Epoch 34, Loss 1: 9.456902503967285\n",
            "Epoch 35, Loss 1: 1.2455170154571533\n",
            "Epoch 36, Loss 1: 3.47259521484375\n",
            "Epoch 37, Loss 1: 6.332434177398682\n",
            "Epoch 38, Loss 1: 0.1414395421743393\n",
            "Epoch 39, Loss 1: 3.8636577129364014\n",
            "Epoch 40, Loss 1: 3.7229676246643066\n",
            "Epoch 41, Loss 1: 0.04552103206515312\n",
            "Epoch 42, Loss 1: 3.6092028617858887\n",
            "Epoch 43, Loss 1: 1.8607698678970337\n",
            "Epoch 44, Loss 1: 0.3665092885494232\n",
            "Epoch 45, Loss 1: 2.9453892707824707\n",
            "Epoch 46, Loss 1: 0.7312124371528625\n",
            "Epoch 47, Loss 1: 0.7277947664260864\n",
            "Epoch 48, Loss 1: 2.131415605545044\n",
            "Epoch 49, Loss 1: 0.18041463196277618\n",
            "Epoch 50, Loss 1: 0.947538435459137\n",
            "Epoch 51, Loss 1: 1.3666163682937622\n",
            "Epoch 52, Loss 1: 0.009280444122850895\n",
            "Epoch 53, Loss 1: 0.9838123321533203\n",
            "Epoch 54, Loss 1: 0.76343834400177\n",
            "Epoch 55, Loss 1: 0.036701906472444534\n",
            "Epoch 56, Loss 1: 0.873639702796936\n",
            "Epoch 57, Loss 1: 0.35595154762268066\n",
            "Epoch 58, Loss 1: 0.13046737015247345\n",
            "Epoch 59, Loss 1: 0.6830064654350281\n",
            "Epoch 60, Loss 1: 0.12469784915447235\n",
            "Epoch 61, Loss 1: 0.21306657791137695\n",
            "Epoch 62, Loss 1: 0.4743748605251312\n",
            "Epoch 63, Loss 1: 0.023828892037272453\n",
            "Epoch 64, Loss 1: 0.2524312436580658\n",
            "Epoch 65, Loss 1: 0.2910791337490082\n",
            "Epoch 66, Loss 1: 0.0026280826423317194\n",
            "Epoch 67, Loss 1: 0.2466643899679184\n",
            "Epoch 68, Loss 1: 0.1542287915945053\n",
            "Epoch 69, Loss 1: 0.018659165129065514\n",
            "Epoch 70, Loss 1: 0.20909030735492706\n",
            "Epoch 71, Loss 1: 0.0668783187866211\n",
            "Epoch 72, Loss 1: 0.043126318603754044\n",
            "Epoch 73, Loss 1: 0.15697789192199707\n",
            "Epoch 74, Loss 1: 0.020913535729050636\n",
            "Epoch 75, Loss 1: 0.06070156767964363\n",
            "Epoch 76, Loss 1: 0.104838527739048\n",
            "Epoch 77, Loss 1: 0.0036419860552996397\n",
            "Epoch 78, Loss 1: 0.06637890636920929\n",
            "Epoch 79, Loss 1: 0.06171305850148201\n",
            "Epoch 80, Loss 1: 0.0025671764742583036\n",
            "Epoch 81, Loss 1: 0.06144898384809494\n",
            "Epoch 82, Loss 1: 0.03119167499244213\n",
            "Epoch 83, Loss 1: 0.007998459972441196\n",
            "Epoch 84, Loss 1: 0.04994656518101692\n",
            "Epoch 85, Loss 1: 0.012837224639952183\n",
            "Epoch 86, Loss 1: 0.013845846988260746\n",
            "Epoch 87, Loss 1: 0.03617805242538452\n",
            "Epoch 88, Loss 1: 0.003986846189945936\n",
            "Epoch 89, Loss 1: 0.017234306782484055\n",
            "Epoch 90, Loss 1: 0.023397434502840042\n",
            "Epoch 91, Loss 1: 0.001301149488426745\n",
            "Epoch 92, Loss 1: 0.01756991259753704\n",
            "Epoch 93, Loss 1: 0.013397783041000366\n",
            "Epoch 94, Loss 1: 0.001787584275007248\n",
            "Epoch 95, Loss 1: 0.01552120316773653\n",
            "Epoch 96, Loss 1: 0.006682803388684988\n",
            "Epoch 97, Loss 1: 0.0032883319072425365\n",
            "Epoch 98, Loss 1: 0.01220183726400137\n",
            "Epoch 99, Loss 1: 0.002886357484385371\n",
            "Epoch 100, Loss 1: 0.004557257052510977\n"
          ]
        }
      ]
    },
    {
      "cell_type": "markdown",
      "source": [
        "### Step6: Testing Prediction"
      ],
      "metadata": {
        "id": "qhOIdispiZKt"
      }
    },
    {
      "cell_type": "code",
      "source": [
        "prediction = model1(test_features_tensor)\n",
        "print(f\"Prediction: {prediction.item()}\")\n",
        "\n",
        "# calculate error mse\n",
        "error = (prediction.item() - test_target_tensor.item()) ** 2\n",
        "print(f\"Error: {error}\")"
      ],
      "metadata": {
        "colab": {
          "base_uri": "https://localhost:8080/"
        },
        "id": "zidUImMEidOj",
        "outputId": "5bf22456-6f66-4605-f39f-b3ef55cb686f"
      },
      "execution_count": null,
      "outputs": [
        {
          "output_type": "stream",
          "name": "stdout",
          "text": [
            "Prediction: 33.7227897644043\n",
            "Error: 0.07684551471902523\n"
          ]
        }
      ]
    },
    {
      "cell_type": "markdown",
      "source": [
        "### Optional - Step7 - Introspection"
      ],
      "metadata": {
        "id": "1RbqvGN70I85"
      }
    },
    {
      "cell_type": "code",
      "source": [
        "params_generator = model1.named_parameters()\n",
        "W_all = next(params_generator)\n",
        "W_name = W_all[0]\n",
        "W = W_all[1].detach()[0]\n",
        "b_all = next(params_generator)\n",
        "b_name = b_all[0]\n",
        "b = b_all[1].detach()\n",
        "print(f\"W ({W_name}): {W}\")\n",
        "print(f\"b ({b_name}): {b}\")"
      ],
      "metadata": {
        "colab": {
          "base_uri": "https://localhost:8080/"
        },
        "id": "-fJKe_2jv4ls",
        "outputId": "c8db8bdc-0d92-4caf-84c9-50bdd91ce78d"
      },
      "execution_count": null,
      "outputs": [
        {
          "output_type": "stream",
          "name": "stdout",
          "text": [
            "W (linear.weight): tensor([0.8875, 1.0572])\n",
            "b (linear.bias): tensor([-0.0157])\n"
          ]
        }
      ]
    },
    {
      "cell_type": "code",
      "source": [
        "pred = test_features_tensor @ W + b\n",
        "print(f\"Prediction: {pred.item()}\")\n"
      ],
      "metadata": {
        "colab": {
          "base_uri": "https://localhost:8080/"
        },
        "id": "RQaEgXfjnFhm",
        "outputId": "306c35e9-44ac-4483-f240-4965a55ed95f"
      },
      "execution_count": null,
      "outputs": [
        {
          "output_type": "stream",
          "name": "stdout",
          "text": [
            "Prediction: 33.7227897644043\n"
          ]
        }
      ]
    }
  ]
}