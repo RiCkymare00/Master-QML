{
  "nbformat": 4,
  "nbformat_minor": 0,
  "metadata": {
    "colab": {
      "provenance": [],
      "toc_visible": true,
      "gpuType": "T4"
    },
    "kernelspec": {
      "name": "python3",
      "display_name": "Python 3"
    },
    "language_info": {
      "name": "python"
    },
    "accelerator": "GPU"
  },
  "cells": [
    {
      "cell_type": "markdown",
      "source": [
        "# Pytorch code for binary image classification"
      ],
      "metadata": {
        "id": "8pjCYaU8Y3KT"
      }
    },
    {
      "cell_type": "markdown",
      "source": [
        "## Setup"
      ],
      "metadata": {
        "id": "n4NWHVviY7-y"
      }
    },
    {
      "cell_type": "code",
      "execution_count": null,
      "metadata": {
        "id": "HP1DLMBSYnZe"
      },
      "outputs": [],
      "source": [
        "import torch\n",
        "import torch.nn as nn\n",
        "import torch.optim as optim\n",
        "import numpy as np\n",
        "import matplotlib.pyplot as plt\n",
        "from torchvision import datasets, transforms\n",
        "from torch.utils.data import DataLoader, Subset, random_split"
      ]
    },
    {
      "cell_type": "markdown",
      "source": [
        "### Check GPU availability"
      ],
      "metadata": {
        "id": "S8AJ6XJ8ZCnW"
      }
    },
    {
      "cell_type": "code",
      "source": [
        "device = torch.device(\"cuda\" if torch.cuda.is_available() else \"cpu\")\n",
        "print(\"Using device:\", device)"
      ],
      "metadata": {
        "colab": {
          "base_uri": "https://localhost:8080/"
        },
        "id": "sCiSkKnTZCar",
        "outputId": "a782ca7c-14ab-496a-be98-ae68ed006be6"
      },
      "execution_count": null,
      "outputs": [
        {
          "output_type": "stream",
          "name": "stdout",
          "text": [
            "Using device: cuda\n"
          ]
        }
      ]
    },
    {
      "cell_type": "markdown",
      "source": [
        "## Load & Process Data"
      ],
      "metadata": {
        "id": "WgyTTxQUZLkG"
      }
    },
    {
      "cell_type": "code",
      "source": [
        "# Data transformation\n",
        "transform = transforms.Compose([\n",
        "    transforms.ToTensor(),  # Convert image to tensor\n",
        "    transforms.Normalize((0.1307,), (0.3081,))  # Normalize with mean and std\n",
        "])\n",
        "\n",
        "# Load MNIST dataset\n",
        "full_dataset = datasets.MNIST(root=\"./data\", train=True, transform=transform, download=True)\n",
        "test_dataset = datasets.MNIST(root=\"./data\", train=False, transform=transform, download=True)\n",
        "\n",
        "# Convert labels: Even -> 0, Odd -> 1\n",
        "full_dataset.targets = (full_dataset.targets % 2 == 1).long()\n",
        "test_dataset.targets = (test_dataset.targets % 2 == 1).long()\n",
        "\n",
        "# Split dataset: 70% Train, 20% Test, 10% Evaluation\n",
        "train_size = int(0.7 * len(full_dataset))\n",
        "eval_size = int(0.1 * len(full_dataset))\n",
        "test_size = len(full_dataset) - train_size - eval_size  # Remaining for test\n",
        "\n",
        "train_dataset, test_dataset, eval_dataset = random_split(full_dataset, [train_size, test_size, eval_size])\n",
        "\n",
        "# Data loaders\n",
        "train_loader = DataLoader(train_dataset, batch_size=64, shuffle=True)\n",
        "test_loader = DataLoader(test_dataset, batch_size=64, shuffle=False)\n",
        "eval_loader = DataLoader(eval_dataset, batch_size=64, shuffle=False)"
      ],
      "metadata": {
        "id": "p31OEfxxZLDW"
      },
      "execution_count": null,
      "outputs": []
    },
    {
      "cell_type": "code",
      "source": [
        "print(train_size)\n",
        "print(eval_size)\n",
        "print(test_size)"
      ],
      "metadata": {
        "colab": {
          "base_uri": "https://localhost:8080/"
        },
        "id": "PL_CK6KeUNZx",
        "outputId": "3298a056-d61b-403c-9e7e-73ed533b39fb"
      },
      "execution_count": null,
      "outputs": [
        {
          "output_type": "stream",
          "name": "stdout",
          "text": [
            "42000\n",
            "6000\n",
            "12000\n"
          ]
        }
      ]
    },
    {
      "cell_type": "markdown",
      "source": [
        "## Define model\n",
        "Multi-layer perceptron"
      ],
      "metadata": {
        "id": "1ARtuQ0ZZUfr"
      }
    },
    {
      "cell_type": "code",
      "source": [
        "class SimpleMLP(nn.Module):\n",
        "    def __init__(self, input_size=28*28, hidden_size=128):\n",
        "        super(SimpleMLP, self).__init__()\n",
        "        self.fc1 = nn.Linear(input_size, hidden_size) # fully connected (input neurons, output neurons)\n",
        "        self.relu = nn.ReLU()\n",
        "        self.fc2 = nn.Linear(hidden_size, 1)  # Binary output\n",
        "        self.sigmoid = nn.Sigmoid()  # Sigmoid for probability output\n",
        "\n",
        "    def forward(self, x):\n",
        "        x = x.view(x.size(0), -1)  # Flatten input\n",
        "        x = self.fc1(x)\n",
        "        x = self.relu(x)\n",
        "        x = self.fc2(x)\n",
        "        x = self.sigmoid(x)\n",
        "        return x\n",
        "\n",
        "# Initialize model\n",
        "model = SimpleMLP().to(device)"
      ],
      "metadata": {
        "id": "FujzUwXNZUXg"
      },
      "execution_count": null,
      "outputs": []
    },
    {
      "cell_type": "code",
      "source": [
        "import torchsummary\n",
        "torchsummary.summary(model, (1, 28, 28))"
      ],
      "metadata": {
        "colab": {
          "base_uri": "https://localhost:8080/"
        },
        "id": "JPnn8HeXdGzb",
        "outputId": "4ab436ec-2e03-43f8-9387-0db02e9f4a55"
      },
      "execution_count": null,
      "outputs": [
        {
          "output_type": "stream",
          "name": "stdout",
          "text": [
            "----------------------------------------------------------------\n",
            "        Layer (type)               Output Shape         Param #\n",
            "================================================================\n",
            "            Linear-1                  [-1, 128]         100,480\n",
            "              ReLU-2                  [-1, 128]               0\n",
            "            Linear-3                    [-1, 1]             129\n",
            "           Sigmoid-4                    [-1, 1]               0\n",
            "================================================================\n",
            "Total params: 100,609\n",
            "Trainable params: 100,609\n",
            "Non-trainable params: 0\n",
            "----------------------------------------------------------------\n",
            "Input size (MB): 0.00\n",
            "Forward/backward pass size (MB): 0.00\n",
            "Params size (MB): 0.38\n",
            "Estimated Total Size (MB): 0.39\n",
            "----------------------------------------------------------------\n"
          ]
        }
      ]
    },
    {
      "cell_type": "markdown",
      "source": [
        "##  Define Loss & Optimizer"
      ],
      "metadata": {
        "id": "quANNLsOZYVC"
      }
    },
    {
      "cell_type": "code",
      "source": [
        "criterion = nn.BCELoss()  # Binary Cross-Entropy Loss\n",
        "optimizer = optim.Adam(model.parameters(), lr=0.001)"
      ],
      "metadata": {
        "id": "1y31xl_5Za0G"
      },
      "execution_count": null,
      "outputs": []
    },
    {
      "cell_type": "markdown",
      "source": [
        "## Training loop"
      ],
      "metadata": {
        "id": "yuhS4JtEZpUj"
      }
    },
    {
      "cell_type": "code",
      "source": [
        "num_epochs = 10\n",
        "train_losses = []\n",
        "eval_losses = []\n",
        "\n",
        "for epoch in range(num_epochs):\n",
        "    # Training\n",
        "    model.train()\n",
        "    total_loss = 0\n",
        "\n",
        "    for images, labels in train_loader:\n",
        "        images, labels = images.to(device), labels.float().to(device)\n",
        "        optimizer.zero_grad()\n",
        "        # FORWARD PASS\n",
        "        outputs = model(images).squeeze()\n",
        "        loss = criterion(outputs, labels)\n",
        "        # ERROR BACK-PROPAGATION\n",
        "        loss.backward()\n",
        "        # UPDATE THE WEIGHTS according to the gradient\n",
        "        optimizer.step()\n",
        "        total_loss += loss.item()\n",
        "\n",
        "    avg_train_loss = total_loss / len(train_loader)\n",
        "    train_losses.append(avg_train_loss)\n",
        "\n",
        "    # Evaluation (Validation Set)\n",
        "    model.eval()\n",
        "    eval_loss = 0\n",
        "    with torch.no_grad():\n",
        "        for images, labels in eval_loader:\n",
        "            images, labels = images.to(device), labels.float().to(device)\n",
        "            # FORWARD PASS\n",
        "            outputs = model(images).squeeze()\n",
        "            loss = criterion(outputs, labels)\n",
        "            eval_loss += loss.item()\n",
        "\n",
        "    avg_eval_loss = eval_loss / len(eval_loader)\n",
        "    eval_losses.append(avg_eval_loss)\n",
        "\n",
        "    print(f\"Epoch [{epoch+1}/{num_epochs}] -> Train Loss: {avg_train_loss:.4f} | Eval Loss: {avg_eval_loss:.4f}\")\n"
      ],
      "metadata": {
        "colab": {
          "base_uri": "https://localhost:8080/"
        },
        "id": "z_OqKC4eZmNS",
        "outputId": "daea9765-99a2-4589-8ce4-51ab21fe26d5"
      },
      "execution_count": null,
      "outputs": [
        {
          "output_type": "stream",
          "name": "stdout",
          "text": [
            "Epoch [1/10] -> Train Loss: 0.2094 | Eval Loss: 0.1336\n",
            "Epoch [2/10] -> Train Loss: 0.1081 | Eval Loss: 0.0946\n",
            "Epoch [3/10] -> Train Loss: 0.0847 | Eval Loss: 0.0848\n",
            "Epoch [4/10] -> Train Loss: 0.0722 | Eval Loss: 0.0755\n",
            "Epoch [5/10] -> Train Loss: 0.0640 | Eval Loss: 0.0678\n",
            "Epoch [6/10] -> Train Loss: 0.0579 | Eval Loss: 0.0623\n",
            "Epoch [7/10] -> Train Loss: 0.0536 | Eval Loss: 0.0641\n",
            "Epoch [8/10] -> Train Loss: 0.0489 | Eval Loss: 0.0654\n",
            "Epoch [9/10] -> Train Loss: 0.0466 | Eval Loss: 0.0585\n",
            "Epoch [10/10] -> Train Loss: 0.0433 | Eval Loss: 0.0626\n"
          ]
        }
      ]
    },
    {
      "cell_type": "markdown",
      "source": [
        "## Plot training and evaluation curves"
      ],
      "metadata": {
        "id": "deDTLUyHayxp"
      }
    },
    {
      "cell_type": "code",
      "source": [
        "plt.figure(figsize=(8,5))\n",
        "plt.plot(range(1, num_epochs+1), train_losses, label=\"Train Loss\")\n",
        "plt.plot(range(1, num_epochs+1), eval_losses, label=\"Eval Loss\", linestyle=\"--\")\n",
        "plt.xlabel(\"Epochs\")\n",
        "plt.ylabel(\"Loss\")\n",
        "plt.title(\"Training & Evaluation Loss\")\n",
        "plt.legend()\n",
        "plt.show()"
      ],
      "metadata": {
        "colab": {
          "base_uri": "https://localhost:8080/",
          "height": 487
        },
        "id": "Z6mDFNy5a0qi",
        "outputId": "0190db36-358e-43dc-9e1c-eb5692eac292"
      },
      "execution_count": null,
      "outputs": [
        {
          "output_type": "display_data",
          "data": {
            "text/plain": [
              "<Figure size 800x500 with 1 Axes>"
            ],
            "image/png": "[encoded data removed]"
          },
          "metadata": {}
        }
      ]
    },
    {
      "cell_type": "markdown",
      "source": [
        "## Test and train accuracy"
      ],
      "metadata": {
        "id": "yVjqZ3IYZski"
      }
    },
    {
      "cell_type": "code",
      "source": [
        "model.eval()\n",
        "correct_train = 0\n",
        "total_train = 0\n",
        "correct_test = 0\n",
        "total_test = 0\n",
        "\n",
        "# Train Accuracy\n",
        "with torch.no_grad():\n",
        "    for images, labels in train_loader:\n",
        "        images, labels = images.to(device), labels.to(device)\n",
        "        outputs = model(images).squeeze()\n",
        "        predicted = (outputs > 0.5).long()\n",
        "        correct_train += (predicted == labels).sum().item()\n",
        "        total_train += labels.size(0)\n",
        "\n",
        "train_acc = 100 * correct_train / total_train\n",
        "\n",
        "# Test Accuracy\n",
        "with torch.no_grad():\n",
        "    for images, labels in test_loader:\n",
        "        images, labels = images.to(device), labels.to(device)\n",
        "        outputs = model(images).squeeze()\n",
        "        predicted = (outputs > 0.5).long()\n",
        "        correct_test += (predicted == labels).sum().item()\n",
        "        total_test += labels.size(0)\n",
        "\n",
        "test_acc = 100 * correct_test / total_test\n",
        "\n",
        "print(f\"Train Accuracy: {train_acc:.2f}%\") # 99.8\n",
        "print(f\"Test Accuracy: {test_acc:.2f}%\") # 98.2"
      ],
      "metadata": {
        "colab": {
          "base_uri": "https://localhost:8080/"
        },
        "id": "kZq8hh62ZsS3",
        "outputId": "826f0461-b4df-4846-ce30-aadd7203c815"
      },
      "execution_count": null,
      "outputs": [
        {
          "output_type": "stream",
          "name": "stdout",
          "text": [
            "Train Accuracy: 98.74%\n",
            "Test Accuracy: 97.48%\n"
          ]
        }
      ]
    }
  ]
}