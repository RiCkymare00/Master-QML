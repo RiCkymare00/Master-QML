{
 "cells": [
  {
   "cell_type": "code",
   "execution_count": 1,
   "metadata": {},
   "outputs": [],
   "source": [
    "from sklearn.tree import DecisionTreeClassifier\n",
    "from sklearn import tree\n",
    "from sklearn.datasets import load_iris\n",
    "import numpy as np\n",
    "from sklearn.model_selection import train_test_split\n",
    "from sklearn.model_selection import cross_val_score\n",
    "from sklearn.model_selection import cross_val_predict\n",
    "\n",
    "from sklearn.metrics import classification_report, accuracy_score\n",
    "from sklearn.metrics import ConfusionMatrixDisplay\n",
    "from sklearn.model_selection import ShuffleSplit, GridSearchCV, StratifiedKFold\n",
    "from sklearn.metrics import confusion_matrix\n",
    "\n",
    "# from google.colab.patches import cv2_imshow\n",
    "import cv2\n",
    "import matplotlib.pyplot as plt"
   ]
  },
  {
   "cell_type": "markdown",
   "metadata": {},
   "source": [
    "1. Import dataset"
   ]
  },
  {
   "cell_type": "code",
   "execution_count": 2,
   "metadata": {},
   "outputs": [
    {
     "name": "stdout",
     "output_type": "stream",
     "text": [
      "[INFO] loading data...\n"
     ]
    },
    {
     "data": {
      "text/plain": [
       "(150, 4)"
      ]
     },
     "execution_count": 2,
     "metadata": {},
     "output_type": "execute_result"
    }
   ],
   "source": [
    "##dataset loading...\n",
    "print(\"[INFO] loading data...\")\n",
    "dataset = load_iris()\n",
    "\n",
    "#https://archive.ics.uci.edu/ml/datasets/iris\n",
    "\n",
    "dataset.data.shape"
   ]
  },
  {
   "cell_type": "markdown",
   "metadata": {},
   "source": [
    "## Decision Tree\n",
    "A decision tree is a __supervised learning algorithm__ used for both classification and regression tasks. It has a hierarchical tree structure composed of a root node, branches, internal nodes, and leaf nodes.\n",
    "\n",
    "<img src=\"img/decision_tree.png\" alt=\"Decision tree\" width=\"600\">\n",
    "\n",
    "A decision tree starts with the __root node__, which has no incoming branches. The outgoing branches from the root lead to __internal nodes__, also known as __decision nodes__.\n",
    "\n",
    "Both root and internal nodes perform evaluations to split the data into homogeneous subsets, which are represented by __leaf nodes__ or __terminal nodes__.\n",
    "\n",
    "__Leaf nodes__ represent all possible outcomes (either continuous or discrete) within the dataset.\n"
   ]
  },
  {
   "cell_type": "markdown",
   "metadata": {},
   "source": [
    "2. Define the classifier"
   ]
  },
  {
   "cell_type": "code",
   "execution_count": 3,
   "metadata": {},
   "outputs": [],
   "source": [
    "##instantiate the DT model\n",
    "dt = DecisionTreeClassifier(random_state=1)"
   ]
  },
  {
   "cell_type": "markdown",
   "metadata": {},
   "source": [
    "3. Split dataset"
   ]
  },
  {
   "cell_type": "code",
   "execution_count": 4,
   "metadata": {},
   "outputs": [],
   "source": [
    "#outter hold out for model testing\n",
    "(trainX, testX, trainY, testY) = train_test_split(dataset.data, dataset.target, random_state=1, test_size=0.20)"
   ]
  },
  {
   "cell_type": "markdown",
   "metadata": {},
   "source": [
    "4. Grid search"
   ]
  },
  {
   "cell_type": "code",
   "execution_count": 7,
   "metadata": {},
   "outputs": [],
   "source": [
    "#DT hyperparameters\n",
    "p_grid = {\"max_depth\": [2, 3, 4, 5, 10, 15, 20, 25, 30]}\n",
    "# The maximum depth of the tree. If None, then nodes are expanded until all leaves are pure or until all leaves contain less than min_samples_split samples,\n",
    "# i.e., the minimum number of samples required to split an internal node.\n",
    "\n",
    "\n",
    "# inner CV for hyperparameter tuning\n",
    "inner_cv = StratifiedKFold(n_splits=5, shuffle=True, random_state=1)\n",
    "\n",
    "#Inner Grid-search ...finding the optimal hyperparameters\n",
    "clf = GridSearchCV(estimator=dt, param_grid=p_grid, cv=inner_cv, verbose=0)"
   ]
  },
  {
   "cell_type": "markdown",
   "metadata": {},
   "source": [
    "5. Model training"
   ]
  },
  {
   "cell_type": "code",
   "execution_count": 8,
   "metadata": {},
   "outputs": [
    {
     "name": "stdout",
     "output_type": "stream",
     "text": [
      "DecisionTreeClassifier(max_depth=3, random_state=1)\n"
     ]
    }
   ],
   "source": [
    "#find the best hyperparameters and training the model\n",
    "clf.fit(trainX, trainY)\n",
    "\n",
    "print(clf.best_estimator_)"
   ]
  },
  {
   "cell_type": "markdown",
   "metadata": {},
   "source": [
    "6. Model testing"
   ]
  },
  {
   "cell_type": "code",
   "execution_count": 9,
   "metadata": {},
   "outputs": [],
   "source": [
    "#testing the model\n",
    "predictions = clf.predict(testX)"
   ]
  },
  {
   "cell_type": "code",
   "execution_count": 11,
   "metadata": {},
   "outputs": [
    {
     "data": {
      "text/plain": [
       "array([0, 1, 1, 0, 2, 1, 2, 0, 0, 2, 1, 0, 2, 1, 1, 0, 1, 1, 0, 0, 1, 1,\n",
       "       2, 0, 2, 1, 0, 0, 1, 2])"
      ]
     },
     "execution_count": 11,
     "metadata": {},
     "output_type": "execute_result"
    }
   ],
   "source": [
    "predictions"
   ]
  },
  {
   "cell_type": "markdown",
   "metadata": {},
   "source": [
    "7. Performance evaluation"
   ]
  },
  {
   "cell_type": "code",
   "execution_count": 12,
   "metadata": {},
   "outputs": [
    {
     "name": "stdout",
     "output_type": "stream",
     "text": [
      "ACCURACY DT model: 0.9666666666666667\n"
     ]
    }
   ],
   "source": [
    "acc=accuracy_score(testY, predictions)\n",
    "print(\"ACCURACY DT model: {}\".format(acc))"
   ]
  },
  {
   "cell_type": "code",
   "execution_count": 14,
   "metadata": {},
   "outputs": [
    {
     "name": "stdout",
     "output_type": "stream",
     "text": [
      "              precision    recall  f1-score   support\n",
      "\n",
      "      setosa     1.0000    1.0000    1.0000        11\n",
      "  versicolor     1.0000    0.9231    0.9600        13\n",
      "   virginica     0.8571    1.0000    0.9231         6\n",
      "\n",
      "    accuracy                         0.9667        30\n",
      "   macro avg     0.9524    0.9744    0.9610        30\n",
      "weighted avg     0.9714    0.9667    0.9673        30\n",
      "\n"
     ]
    }
   ],
   "source": [
    "# #classification report\n",
    "# print(classification_report(testY, predictions, target_names=dataset.target_names))\n",
    "print(classification_report(testY, predictions, target_names=dataset.target_names, digits=4))"
   ]
  },
  {
   "cell_type": "code",
   "execution_count": 15,
   "metadata": {},
   "outputs": [
    {
     "data": {
      "image/png": "[encoded data removed]",
      "text/plain": [
       "<Figure size 640x480 with 2 Axes>"
      ]
     },
     "metadata": {},
     "output_type": "display_data"
    }
   ],
   "source": [
    "# #confusion matrix\n",
    "cm = confusion_matrix(testY, predictions, labels=clf.classes_)\n",
    "disp = ConfusionMatrixDisplay(confusion_matrix=cm, display_labels=clf.classes_)\n",
    "disp.plot()\n",
    "\n",
    "plt.show()\n"
   ]
  },
  {
   "cell_type": "markdown",
   "metadata": {},
   "source": [
    "8. Model interpretability"
   ]
  },
  {
   "cell_type": "code",
   "execution_count": 16,
   "metadata": {},
   "outputs": [
    {
     "name": "stdout",
     "output_type": "stream",
     "text": [
      "[0.        0.        0.0789118 0.9210882]\n"
     ]
    },
    {
     "data": {
      "image/png": "[encoded data removed]",
      "text/plain": [
       "<Figure size 640x480 with 1 Axes>"
      ]
     },
     "metadata": {},
     "output_type": "display_data"
    }
   ],
   "source": [
    "dtopt=DecisionTreeClassifier(random_state=1,max_depth=clf.best_estimator_.max_depth)\n",
    "clf2 = dtopt.fit(trainX, trainY)\n",
    "tree.plot_tree(clf2)\n",
    "print(clf2.feature_importances_)"
   ]
  },
  {
   "cell_type": "markdown",
   "metadata": {},
   "source": [
    "### What is _gini_?\n",
    "Gini stands for __gini impurity__. It is a measure of how pure or impure a node is — that is, how mixed the classes are at that point in the tree.\n",
    "\n",
    "For a node with $N$ classes, gini is defined as $gini = 1 - \\sum_{i=1}^N p_i^2 \\ $, where $p_i$ is the proportion of samples belonging to class $i$ in that node.\n",
    "\n",
    "* If all samples in a node are of the same class, the Gini impurity is 0 (perfectly pure).\n",
    "* If the samples are evenly split among classes, impurity is higher.\n"
   ]
  },
  {
   "cell_type": "code",
   "execution_count": 17,
   "metadata": {},
   "outputs": [],
   "source": [
    "#https://scikit-learn.org/stable/auto_examples/tree/plot_unveil_tree_structure.html#sphx-glr-auto-examples-tree-plot-unveil-tree-structure-py\n",
    "\n",
    "#per approfondire samples and value"
   ]
  },
  {
   "cell_type": "code",
   "execution_count": 20,
   "metadata": {},
   "outputs": [
    {
     "name": "stdout",
     "output_type": "stream",
     "text": [
      "number of nodes 9\n"
     ]
    }
   ],
   "source": [
    "n_nodes = clf2.tree_.node_count\n",
    "print(\"number of nodes\", n_nodes)"
   ]
  },
  {
   "cell_type": "code",
   "execution_count": 21,
   "metadata": {},
   "outputs": [
    {
     "name": "stdout",
     "output_type": "stream",
     "text": [
      "nodes depth [1 2 2 3 4 4 3 4 4]\n"
     ]
    }
   ],
   "source": [
    "nodes_depth = clf2.tree_.compute_node_depths()\n",
    "print(\"nodes depth\", nodes_depth)"
   ]
  },
  {
   "cell_type": "code",
   "execution_count": 22,
   "metadata": {},
   "outputs": [
    {
     "data": {
      "text/plain": [
       "array([[[0.325     , 0.30833333, 0.36666667]],\n",
       "\n",
       "       [[1.        , 0.        , 0.        ]],\n",
       "\n",
       "       [[0.        , 0.45679012, 0.54320988]],\n",
       "\n",
       "       [[0.        , 0.9       , 0.1       ]],\n",
       "\n",
       "       [[0.        , 1.        , 0.        ]],\n",
       "\n",
       "       [[0.        , 0.2       , 0.8       ]],\n",
       "\n",
       "       [[0.        , 0.02439024, 0.97560976]],\n",
       "\n",
       "       [[0.        , 0.25      , 0.75      ]],\n",
       "\n",
       "       [[0.        , 0.        , 1.        ]]])"
      ]
     },
     "execution_count": 22,
     "metadata": {},
     "output_type": "execute_result"
    }
   ],
   "source": [
    "clf2.tree_.value"
   ]
  },
  {
   "cell_type": "code",
   "execution_count": null,
   "metadata": {},
   "outputs": [],
   "source": []
  }
 ],
 "metadata": {
  "kernelspec": {
   "display_name": ".venv",
   "language": "python",
   "name": "python3"
  },
  "language_info": {
   "codemirror_mode": {
    "name": "ipython",
    "version": 3
   },
   "file_extension": ".py",
   "mimetype": "text/x-python",
   "name": "python",
   "nbconvert_exporter": "python",
   "pygments_lexer": "ipython3",
   "version": "3.10.12"
  }
 },
 "nbformat": 4,
 "nbformat_minor": 2
}
