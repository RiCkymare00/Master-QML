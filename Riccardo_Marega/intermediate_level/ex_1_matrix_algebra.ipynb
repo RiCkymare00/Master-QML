{
 "cells": [
  {
   "cell_type": "markdown",
   "id": "d1da26a5-6510-4d33-a389-c683b72dc7a5",
   "metadata": {},
   "source": [
    "## Exercise 1: Matrix Addition and Subtraction ##\n",
    "\n",
    "Problem:\n",
    "\n",
    "Create two 10×10 matrices, perform addition and subtraction, and display the results."
   ]
  },
  {
   "cell_type": "code",
   "execution_count": null,
   "id": "5babd807-e28b-482f-942c-1556156a5869",
   "metadata": {
    "jupyter": {
     "source_hidden": true
    }
   },
   "outputs": [],
   "source": [
    "import numpy as np\n",
    "\n",
    "# Generate two random 10x10 matrices\n",
    "A = np.random.randint(1, 10, (10, 10))\n",
    "B = np.random.randint(1, 10, (10, 10))\n",
    "\n",
    "print(\"Matrix A:\\n\", A)\n",
    "\n",
    "print(\"Matrix B:\\n\", B)\n",
    "\n",
    "# Matrix addition\n",
    "C = A + B\n",
    "print(\"Matrix Addition:\\n\", C)\n",
    "\n",
    "# Matrix subtraction\n",
    "D = A - B\n",
    "print(\"Matrix Subtraction:\\n\", D)\n"
   ]
  },
  {
   "cell_type": "markdown",
   "id": "f3cb4047-ea97-4ef6-b198-640d068b5972",
   "metadata": {},
   "source": [
    "## Exercise 2: Matrix Multiplication ##\n",
    "Problem:\n",
    "Generate two 10×10 matrices and compute their matrix product."
   ]
  },
  {
   "cell_type": "code",
   "execution_count": null,
   "id": "66a359ec-5a9d-47cb-9e0f-8154191a357f",
   "metadata": {
    "jupyter": {
     "source_hidden": true
    }
   },
   "outputs": [],
   "source": [
    "import numpy as np\n",
    "\n",
    "# Generate two random 10x10 matrices\n",
    "A = np.random.randint(1, 10, (10, 10))\n",
    "B = np.random.randint(1, 10, (10, 10))\n",
    "\n",
    "print(\"Matrix A:\\n\", A)\n",
    "print(\"Matrix B:\\n\", B)\n",
    "\n",
    "# Matrix multiplication using the @ operator \n",
    "C = A @ B\n",
    "print(\"Matrix Multiplication:\\n\", C)\n",
    "\n",
    "# Compare the difference between the @ and * operators\n",
    "# Matrix multiplication using the * operator\n",
    "C = A * B\n",
    "print(\"Matrix Multiplication:\\n\", C)\n",
    "# Matrix multiplication using the * operator when A and B are explicitly defined as numpy matrices\n",
    "A = np.array(A)\n",
    "B = np.array(B)\n",
    "# Matrix multiplication using * operator\n",
    "C = A * B\n",
    "print(\"Matrix Multiplication:\\n\", C)\n",
    "\n",
    "\n",
    "a = np.array([2, 3, 4, 5])\n",
    "# vector multiplication using @ operator \n",
    "c = a @ a\n",
    "print(\"Vector Multiplication:\\n\", c)\n",
    "# vector multiplication using np.dot operator \n",
    "c = np.dot(a,a)\n",
    "print(\"Vector Multiplication:\\n\", c)\n",
    "# vector multiplication using * operator \n",
    "c = a * a\n",
    "print(\"Vector Multiplication:\\n\", c)\n",
    "\n",
    "\n",
    "\n"
   ]
  },
  {
   "cell_type": "markdown",
   "id": "e3534033-0082-43cd-b89c-d0c16850f664",
   "metadata": {},
   "source": [
    "## Exercise 3: Transpose of a Matrix ##\n",
    "Problem:\n",
    "Find the transpose of a 10×10 matrix."
   ]
  },
  {
   "cell_type": "code",
   "execution_count": null,
   "id": "30d40036-b0c5-4b7f-86f6-16a300408568",
   "metadata": {
    "jupyter": {
     "source_hidden": true
    }
   },
   "outputs": [],
   "source": [
    "import numpy as np\n",
    "\n",
    "# Generate a random 10x10 matrix\n",
    "A = np.random.randint(1, 10, (10, 10))\n",
    "\n",
    "print(\"Matrix A:\\n\", A)\n",
    "\n",
    "# Compute transpose\n",
    "A_T = A.T\n",
    "print(\"Transpose of the matrix:\\n\", A_T)\n"
   ]
  },
  {
   "cell_type": "markdown",
   "id": "2ffb7aa9-0816-420c-b3ca-7ba87f1e2cda",
   "metadata": {},
   "source": [
    "## Exercise 4: Determinant of a Matrix ##\n",
    "Problem:\n",
    "Compute the determinant of a 10×10 matrix."
   ]
  },
  {
   "cell_type": "code",
   "execution_count": null,
   "id": "6e230ba4-8c7a-40dd-96bf-9f2e738eac51",
   "metadata": {
    "jupyter": {
     "source_hidden": true
    }
   },
   "outputs": [],
   "source": [
    "import numpy as np\n",
    "\n",
    "# Generate a random 10x10 matrix\n",
    "A = np.random.rand(10, 10)  # Use floating point values for better determinant results\n",
    "\n",
    "print(\"Matrix A:\\n\", A)\n",
    "\n",
    "# Compute determinant\n",
    "det_A = np.linalg.det(A)\n",
    "print(\"Determinant of matrix A:\", det_A)\n"
   ]
  },
  {
   "cell_type": "markdown",
   "id": "b2b88846-6724-40f5-9192-793d48d01c3c",
   "metadata": {},
   "source": [
    "## Exercise 5: Inverse of a Matrix ##\n",
    "Problem:\n",
    "Compute the inverse of a 5×5 matrix (if it exists)."
   ]
  },
  {
   "cell_type": "code",
   "execution_count": null,
   "id": "852f424e-412b-4c69-ad60-9aeaf31841f0",
   "metadata": {
    "jupyter": {
     "source_hidden": true
    }
   },
   "outputs": [],
   "source": [
    "import numpy as np\n",
    "\n",
    "n = 5\n",
    "# Generate a random 5x5 matrix\n",
    "A = np.random.rand(n, n)  # Using floating point numbers ensures invertibility\n",
    "\n",
    "print(\"Matrix A:\\n\", A)\n",
    "\n",
    "# Compute determinant\n",
    "det_A = np.linalg.det(A) \n",
    "print(\"Determinant of matrix A:\", det_A)\n",
    "\n",
    "epsilon = 1E-6\n",
    "print(epsilon)\n",
    "\n",
    "if np.abs(det_A) < epsilon:\n",
    "    # if the determinant is zero, the matrix is singular and cannot be inverted\n",
    "    print(\"The determinant is zero, the matrix is singular and cannot be inverted, or is close to zero, the inverse matrix would be affected by significant rounding errors.\")\n",
    "else:\n",
    "    # Compute inverse\n",
    "    A_inv = np.linalg.inv(A)\n",
    "    print(\"Inverse of matrix A:\\n\", A_inv)\n",
    "    # Verify the quality of the computation \n",
    "    B = A_inv @ A\n",
    "    print(\"Product of A_inv @ A:\\n\", B)\n",
    "    # Create an identity matrix\n",
    "    I = np.eye(n)\n",
    "    print(\"Identity Matrix:\\n\", I)\n",
    "    if not np.array_equal(I, B):\n",
    "        print(\"A_inv @ A is not the identical matrix\")\n",
    "        # Set elements smaller than the threshold to zero\n",
    "        B[np.abs(I) < epsilon] = 0\n",
    "        print(\"Modified Matrix:\\n\",B)\n"
   ]
  },
  {
   "cell_type": "markdown",
   "id": "df7376a7-1bb8-4a9d-b149-8898f8d748f4",
   "metadata": {},
   "source": [
    "## Exercise 6: Solving a System of Linear Equations ##\n",
    "Problem:\n",
    "Solve the system of equations $Ax = B$, where \n",
    "$A$ is a 10×10 matrix and \n",
    "$B$ is a 10×1 vector."
   ]
  },
  {
   "cell_type": "code",
   "execution_count": null,
   "id": "13003b51-71ba-4e63-abae-f36803af08e0",
   "metadata": {
    "jupyter": {
     "source_hidden": true
    }
   },
   "outputs": [],
   "source": [
    "import numpy as np\n",
    "\n",
    "# Generate a random 10x10 matrix (coefficients)\n",
    "A = np.random.rand(10, 10)\n",
    "print(\"Matrix A:\\n\", A)\n",
    "\n",
    "# Generate a random 10x1 column vector (constants)\n",
    "B = np.random.rand(10)\n",
    "print(\"Vector B:\\n\", B)\n",
    "\n",
    "print\n",
    "# Solve the system Ax = B\n",
    "x = np.linalg.solve(A, B)\n",
    "print(\"Solution x:\\n\", x)\n",
    "\n",
    "# Verify the solution\n",
    "B_new = A @ x\n",
    "print(\"Vector B_new:\\n\", B_new)\n",
    "print(\"x a reasonable numerical solution if B_new is equal or 'very close' to B\")"
   ]
  },
  {
   "cell_type": "markdown",
   "id": "8427daa8-1711-4e98-b935-9cc7d231364d",
   "metadata": {},
   "source": [
    "## Exercise 6bis: Solving a System of Linear Equations ##\n",
    "\n",
    "Problem: Solve the system of equations \n",
    "\n",
    "**Why does the system rise an error?**"
   ]
  },
  {
   "cell_type": "code",
   "execution_count": null,
   "id": "6f81feda-42d7-4c14-b2f0-56af8a90866c",
   "metadata": {
    "jupyter": {
     "source_hidden": true
    }
   },
   "outputs": [],
   "source": [
    "import numpy as np\n",
    "\n",
    "# Generate a matrix \n",
    "A = np.array([[1.0, 0.0, 5.0, 4.0], [0.0, 3.0, -1.0, -2.0], [2.0, 3.0, -1.0, 4.0], [3.0, 6.0, 3.0, 6.0]])\n",
    "print(\"Matrix A:\\n\", A)\n",
    "\n",
    "# Generate a random 10x1 column vector (constants)\n",
    "B = np.array([5.0, 7.0, 12.0, 3.0])\n",
    "print(\"Vector B:\\n\", B)\n",
    "\n",
    "print\n",
    "# Solve the system Ax = B\n",
    "x = np.linalg.solve(A, B)\n",
    "print(\"Solution x:\\n\", x)\n",
    "\n",
    "# Verify the solution\n",
    "B_new = A @ x\n",
    "print(\"Vector B_new:\\n\", B_new)\n",
    "print(\"x a reasonable numerical solution if B_new is equal or 'very close' to B\")"
   ]
  },
  {
   "cell_type": "markdown",
   "id": "376b623f-9155-4af3-99ae-d9f051fc2f3f",
   "metadata": {},
   "source": [
    "## Exercise 7: Eigenvalues and Eigenvectors ##\n",
    "\n",
    "Problem:\n",
    "Find the eigenvalues and eigenvectors of a 5×5 matrix."
   ]
  },
  {
   "cell_type": "code",
   "execution_count": null,
   "id": "b2d004a5-898e-463e-94d7-19232d2019fc",
   "metadata": {
    "jupyter": {
     "source_hidden": true
    }
   },
   "outputs": [],
   "source": [
    "import numpy as np\n",
    "\n",
    "n = 5\n",
    "# Generate a random 5x5 matrix with non-negative real eigevvalues \n",
    "A = np.random.rand(n, n)\n",
    "A = A @ A.T # define A as a symmetric matrix\n",
    "\n",
    "\n",
    "# Compute eigenvalues and eigenvectors\n",
    "eigenvalues, eigenvectors = np.linalg.eig(A)\n",
    "\n",
    "print(\"Eigenvalues:\\n\", eigenvalues)\n",
    "print(\"Eigenvectors:\\n\", eigenvectors)\n",
    "\n",
    "# Verify the solution\n",
    "# first eigenvalue\n",
    "lambda_0 = eigenvalues[0]\n",
    "# first eigenvector\n",
    "v_0 = eigenvectors[:,0]\n",
    "\n",
    "prod = A @ v_0\n",
    "print(\"A @ first_eigenvector: \", prod)\n",
    "print(\"first_eigenvalue * first_eigenvector: \", lambda_0 * v_0)\n",
    "print(\"difference (that must be almost a null vector): \", prod - lambda_0 * v_0)\n",
    "\n"
   ]
  },
  {
   "cell_type": "markdown",
   "id": "f45a00ef-2434-4683-9f00-b86dbbdf9196",
   "metadata": {},
   "source": [
    "## Exercise 8: Matrix Rank ##\n",
    "\n",
    "Problem:\n",
    "Compute the rank of a matrix."
   ]
  },
  {
   "cell_type": "code",
   "execution_count": null,
   "id": "9a711faa-ca65-4e43-aab0-bd1ec3fa0a60",
   "metadata": {
    "jupyter": {
     "source_hidden": true
    }
   },
   "outputs": [],
   "source": [
    "import numpy as np\n",
    "\n",
    "# Generate a random 10x10 matrix\n",
    "A = A = np.array([[1.0, 8.0, 5.0, 4.0, 1.0], [0.0, -3.0, -1.0, -2.0, 3.0], [2.0, 1.0, -1.0, 4.0, -2.0], [3.0, 6.0, 3.0, 6.0, 2.0]])\n",
    "print(\"Matrix A:\\n\", A)\n",
    "\n",
    "\n",
    "# Compute rank\n",
    "# rank_A = np.linalg.array_rank(A)\n",
    "rank_A = np.linalg.matrix_rank(A)\n",
    "\n",
    "print(\"Rank of matrix A:\", rank_A)"
   ]
  },
  {
   "cell_type": "markdown",
   "id": "8b07f677-20b1-4d29-87e0-dba9384a453f",
   "metadata": {},
   "source": [
    "## Exercise 9: Distance between two vectors using multiple norms ##\n",
    "\n",
    "Problem:\n",
    "Given two 10-dimensional vectors, compute their distances using the following norms:\n",
    "\n",
    "- **L1 norm (Manhattan distance):**  \n",
    "\n",
    "  $ d_1 = \\sum |v_{1i} - v_{2i}| $\n",
    " \n",
    "- **L2 norm (Euclidean distance):**  \n",
    "  \n",
    "  $d_2 = \\sqrt{\\sum (v_{1i} - v_{2i})^2}$\n",
    "  \n",
    "- **L∞ norm (Maximum norm):**  \n",
    "\n",
    "  $ d_{\\infty} = \\max |v_{1i} - v_{2i}| $\n",
    "\n",
    "- **Lp norm (Generalized Minkowski distance for p=3):**  \n",
    "\n",
    "  $ d_p = \\left( \\sum |v_{1i} - v_{2i}|^p \\right)^{1/p} $\n",
    "\n",
    "\n",
    "\n",
    "Each norm is suitable for different applications:\n",
    "- **L1 norm:** Useful in **sparse models** and **taxi-cab** geometry.\n",
    "- **L2 norm:** Common in **Euclidean space**, used in **machine learning**.\n",
    "- **L∞ norm:** Measures the **maximum deviation** between vectors.\n",
    "- **Lp norm:** Generalization that allows **flexibility** in distance measurement."
   ]
  },
  {
   "cell_type": "code",
   "execution_count": null,
   "id": "5bc778bc-f86f-446c-be27-6273003a033c",
   "metadata": {
    "jupyter": {
     "source_hidden": true
    }
   },
   "outputs": [],
   "source": [
    "import numpy as np\n",
    "\n",
    "# Generate two random 10-dimensional vectors\n",
    "v1 = np.random.rand(10)\n",
    "v2 = np.random.rand(10)\n",
    "\n",
    "# Compute different norms\n",
    "L1_distance = np.linalg.norm(v1 - v2, ord=1)   # Manhattan distance (L1 norm)\n",
    "L2_distance = np.linalg.norm(v1 - v2, ord=2)   # Euclidean distance (L2 norm)\n",
    "L_inf_distance = np.linalg.norm(v1 - v2, ord=np.inf)  # Maximum norm (L∞ norm)\n",
    "L_p_distance = np.linalg.norm(v1 - v2, ord=3)  # Minkowski distance with p=3\n",
    "\n",
    "# Print results\n",
    "print(\"Vector 1:\\n\", v1)\n",
    "print(\"Vector 2:\\n\", v2)\n",
    "print(\"\\nL1 Norm (Manhattan Distance):\", L1_distance)\n",
    "print(\"L2 Norm (Euclidean Distance):\", L2_distance)\n",
    "print(\"L∞ Norm (Maximum Distance):\", L_inf_distance)\n",
    "print(\"L3 Norm (Minkowski Distance for p=3):\", L_p_distance)\n"
   ]
  },
  {
   "cell_type": "markdown",
   "id": "994bb870-948a-4f1b-be92-ab015d40c6de",
   "metadata": {},
   "source": [
    "## Exercise 10: Unit circles ##\n",
    "\n",
    "Problem:\n",
    "Plots the unit circles (locus of points at distance 1 from the origin) for different norms in 2D Cartesian space\n",
    "\n",
    "\n",
    "- **L2 norm (Euclidean)** → Standard **circle**.\n",
    "- **L1 norm (Manhattan)** → A **diamond** (rhombus) because the distance is measured as the sum of absolute differences.\n",
    "- **L∞ norm (Maximum norm)** → A **square** since distance is determined by the maximum coordinate.\n",
    "- **Minkowski norm (Lp) for p = 1.5, 3, 4** → Intermediate shapes between diamonds, circles and squares .\n",
    "- **Minkowski norm (Lp) for p = 0.2, 0.5** → Intermediate shapes between stars and diamond.\n",
    "\n",
    "The Minkowski norm for p < 1 is not metric, it violates the triangular inequality.\n"
   ]
  },
  {
   "cell_type": "code",
   "execution_count": null,
   "id": "5075f895-aa69-4422-94f5-12a8ef12af74",
   "metadata": {
    "jupyter": {
     "source_hidden": true
    }
   },
   "outputs": [],
   "source": [
    "import numpy as np\n",
    "import matplotlib.pyplot as plt\n",
    "\n",
    "# Function to generate points for the Lp norm unit circle\n",
    "def generate_lp_norm_boundary(p, num_points=100):\n",
    "    angles = np.linspace(0, 2 * np.pi, num_points)\n",
    "    x = np.sign(np.cos(angles)) * np.abs(np.cos(angles))**(2/p)\n",
    "    y = np.sign(np.sin(angles)) * np.abs(np.sin(angles))**(2/p)\n",
    "    return x, y\n",
    "\n",
    "# Plot setup\n",
    "plt.figure(figsize=(8, 8))\n",
    "\n",
    "# Plot Euclidean norm (L2) - Standard circle\n",
    "angles = np.linspace(0, 2 * np.pi, 100)\n",
    "plt.plot(np.cos(angles), np.sin(angles), label=\"L2 (Eucl) p=2\")\n",
    "\n",
    "# Plot Manhattan norm (L1) - Diamond\n",
    "l1_x = np.array([1, 0, -1,  0,  1])\n",
    "l1_y = np.array([0, 1,  0, -1,  0])\n",
    "plt.plot(l1_x, l1_y, label=\"L1 (Manh.) p=1\")\n",
    "\n",
    "# Plot Maximum norm (L∞) - Square\n",
    "l_inf_x = np.array([1,  1, -1, -1,  1])\n",
    "l_inf_y = np.array([1, -1, -1,  1,  1])\n",
    "plt.plot(l_inf_x, l_inf_y, label=\"L∞ (Max) p=∞\")\n",
    "\n",
    "# Plot Minkowski norms for different p values\n",
    "p_values = [0.2, 0.5, 1.5, 3, 4]\n",
    "colors = ['black', 'blue', 'orange', 'purple', 'brown']\n",
    "for p, c in zip(p_values, colors):\n",
    "    x, y = generate_lp_norm_boundary(p)\n",
    "    plt.plot(x, y, label=f\"L{p} (Mink. p={p})\", color=c)\n",
    "\n",
    "# Formatting the plot\n",
    "plt.axhline(0, color='black', linewidth=0.5)\n",
    "plt.axvline(0, color='black', linewidth=0.5)\n",
    "plt.xlim(-1.5, 1.5)\n",
    "plt.ylim(-1.5, 1.5)\n",
    "plt.gca().set_aspect('equal')  # Equal scaling\n",
    "plt.legend()\n",
    "plt.title(\"Unit Circles for Different Norms\")\n",
    "plt.grid(True)\n",
    "plt.show()"
   ]
  },
  {
   "cell_type": "markdown",
   "id": "73a66f6f-117b-4cac-8b7f-9de57f99ef39",
   "metadata": {},
   "source": [
    "## Exercise 10bis: Unit circles ##\n",
    "\n",
    "Problem:\n",
    "Plots the unit circles (locus of points at distance 1 from the origin) for different norms in 2D Cartesian space using an interactive slider"
   ]
  },
  {
   "cell_type": "code",
   "execution_count": null,
   "id": "6c1dd45c-31bf-4a22-83eb-eb11502a0fcc",
   "metadata": {
    "jupyter": {
     "source_hidden": true
    }
   },
   "outputs": [],
   "source": [
    "import numpy as np\n",
    "import matplotlib.pyplot as plt\n",
    "from ipywidgets import interact, FloatSlider\n",
    "\n",
    "# Function to generate points for the Lp norm unit circle\n",
    "def generate_lp_norm_boundary(p, num_points=100):\n",
    "    angles = np.linspace(0, 2 * np.pi, num_points)\n",
    "    x = np.sign(np.cos(angles)) * np.abs(np.cos(angles))**(2/p)\n",
    "    y = np.sign(np.sin(angles)) * np.abs(np.sin(angles))**(2/p)\n",
    "    return x, y\n",
    "\n",
    "# Interactive plotting function\n",
    "def plot_unit_norms(p):\n",
    "    plt.figure(figsize=(8, 8))\n",
    "\n",
    "    # Plot Euclidean norm (L2) - Standard circle\n",
    "    angles = np.linspace(0, 2 * np.pi, 100)\n",
    "    plt.plot(np.cos(angles), np.sin(angles), label=\"L2 (Euclidean)\", color=\"blue\")\n",
    "\n",
    "    # Plot Manhattan norm (L1) - Diamond\n",
    "    l1_x = np.array([1, 0, -1,  0,  1])\n",
    "    l1_y = np.array([0, 1,  0, -1,  0])\n",
    "    plt.plot(l1_x, l1_y, label=\"L1 (Manhattan)\", color=\"red\")\n",
    "\n",
    "    # Plot Maximum norm (L∞) - Square\n",
    "    l_inf_x = np.array([1,  1, -1, -1,  1])\n",
    "    l_inf_y = np.array([1, -1, -1,  1,  1])\n",
    "    plt.plot(l_inf_x, l_inf_y, label=\"L∞ (Max)\", color=\"green\")\n",
    "\n",
    "    # Plot Minkowski norm with dynamic p value\n",
    "    x, y = generate_lp_norm_boundary(p)\n",
    "    plt.plot(x, y, label=f\"L{p:.2f} (Minkowski)\", color=\"orange\")\n",
    "\n",
    "    # Formatting the plot\n",
    "    plt.axhline(0, color='black', linewidth=0.5)\n",
    "    plt.axvline(0, color='black', linewidth=0.5)\n",
    "    plt.xlim(-1.5, 1.5)\n",
    "    plt.ylim(-1.5, 1.5)\n",
    "    plt.gca().set_aspect('equal')  # Equal scaling\n",
    "    plt.legend()\n",
    "    plt.title(f\"Unit Circles for Different Norms (Minkowski p={p:.2f})\")\n",
    "    plt.grid(True)\n",
    "    plt.show()\n",
    "\n",
    "# Create an interactive slider for p\n",
    "interact(plot_unit_norms, p=FloatSlider(min=0.1, max=10, step=0.1, value=2, description=\"p\"));"
   ]
  },
  {
   "cell_type": "markdown",
   "id": "9a8b571c-6df2-437e-92e1-ab16b0869fbc",
   "metadata": {},
   "source": [
    "## Exercise 11: Angle Between Two Vectors ##\n",
    "\n",
    "Problem:\n",
    "Given two 5-dimensional vectors, compute the angle (in degrees) between them."
   ]
  },
  {
   "cell_type": "code",
   "execution_count": null,
   "id": "a4fa3bd3-5580-475f-9dcf-86e32aabf5c9",
   "metadata": {
    "jupyter": {
     "source_hidden": true
    }
   },
   "outputs": [],
   "source": [
    "import numpy as np\n",
    "\n",
    "# Generate two random 5-dimensional vectors\n",
    "v1 = np.random.rand(5)\n",
    "v2 = np.random.rand(5)\n",
    "\n",
    "# Compute dot product\n",
    "dot_product = np.dot(v1, v2)\n",
    "\n",
    "# Compute norms of the vectors\n",
    "norm_v1 = np.linalg.norm(v1)\n",
    "norm_v2 = np.linalg.norm(v2)\n",
    "\n",
    "# Compute cosine of the angle\n",
    "cos_theta = dot_product / (norm_v1 * norm_v2)\n",
    "\n",
    "# Compute the angle in radians and then convert to degrees\n",
    "angle_radians = np.arccos(np.clip(cos_theta, -1.0, 1.0))\n",
    "angle_degrees = np.degrees(angle_radians)\n",
    "\n",
    "print(\"Vector 1:\\n\", v1)\n",
    "print(\"Vector 2:\\n\", v2)\n",
    "print(\"Angle (in degrees):\", angle_degrees)\n"
   ]
  },
  {
   "cell_type": "markdown",
   "id": "39453e53-3de5-49c5-a149-174f452b5093",
   "metadata": {},
   "source": [
    "## Exercise 12: Frobenius Norm of a Matrix ##\n",
    "\n",
    "Problem:\n",
    "Compute the Frobenius norm $||A||_F = \\sqrt{\\sum_{i}^n\\sum_{j}^n |a_{ij}|^2}$ of a 10×10 matrix."
   ]
  },
  {
   "cell_type": "code",
   "execution_count": null,
   "id": "425e052c-d496-49ab-a83a-48343f33827a",
   "metadata": {
    "jupyter": {
     "source_hidden": true
    }
   },
   "outputs": [],
   "source": [
    "import numpy as np\n",
    "\n",
    "# Generate a random 10x10 matrix\n",
    "A = np.random.rand(10, 10)\n",
    "\n",
    "# Compute the Frobenius norm\n",
    "frobenius_norm = np.linalg.norm(A, 'fro')\n",
    "\n",
    "print(\"Frobenius Norm of matrix A:\", frobenius_norm)\n"
   ]
  },
  {
   "cell_type": "code",
   "execution_count": null,
   "id": "8e82313a",
   "metadata": {},
   "outputs": [],
   "source": []
  }
 ],
 "metadata": {
  "kernelspec": {
   "display_name": "Python 3 (ipykernel)",
   "language": "python",
   "name": "python3"
  },
  "language_info": {
   "codemirror_mode": {
    "name": "ipython",
    "version": 3
   },
   "file_extension": ".py",
   "mimetype": "text/x-python",
   "name": "python",
   "nbconvert_exporter": "python",
   "pygments_lexer": "ipython3",
   "version": "3.12.8"
  }
 },
 "nbformat": 4,
 "nbformat_minor": 5
}
