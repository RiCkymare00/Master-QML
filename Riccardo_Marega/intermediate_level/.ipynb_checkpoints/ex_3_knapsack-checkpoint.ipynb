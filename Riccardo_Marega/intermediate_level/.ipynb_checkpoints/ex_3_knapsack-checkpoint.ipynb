{
 "cells": [
  {
   "cell_type": "markdown",
   "metadata": {
    "id": "V5Upurp09kpV",
    "tags": []
   },
   "source": [
    "# Preliminary operations\n",
    "If you run this program on Colab\n",
    "1.   Install pyomo\n",
    "2.   Install coin-or cbc\n",
    "3.   Mount your drive\n",
    "\n",
    "If you run this program on your pc\n",
    "1.   Install pyomo once and for all: \n",
    "```python\n",
    "pip install pyomo\n",
    "```\n",
    "2.   Install coin-or cbc solver once and for all:<BR>\n",
    "    2.1 download the sw from https://github.com/coin-or/Cbc/releases  \n",
    "    2.2 install it in a dyrectory, e.g., C:/Program Files/Cbc\n",
    "\n",
    "COIN-OR CBC is a multi-threaded open-source Coin-or branch and cut mixed-integer linear programming solver written in C++ under the Eclipse Public License (EPL). CBC is generally a good choice for a general purpose MILP solver for medium to large scale problems."
   ]
  },
  {
   "cell_type": "code",
   "execution_count": null,
   "metadata": {
    "colab": {
     "base_uri": "https://localhost:8080/"
    },
    "executionInfo": {
     "elapsed": 12464,
     "status": "ok",
     "timestamp": 1739527735966,
     "user": {
      "displayName": "Raffaele Pesenti",
      "userId": "17290595898137229952"
     },
     "user_tz": -60
    },
    "id": "1sHFWCA88JqP",
    "outputId": "6acbdaf2-2fd6-424a-d225-d8488142b963",
    "tags": []
   },
   "outputs": [],
   "source": [
    "working_in_colab = False # Set this variable equal to True if you are working in Colab, False otherwise\n",
    "\n",
    "if working_in_colab:\n",
    "    # On Colab only\n",
    "    # This needs to be done once at the start of each session.\n",
    "    !pip install -q pyomo              # Quiet installation of pyomo using pip.\n",
    "    !apt-get install -y -qq coinor-cbc # Installation of COIN-OR CBC.\n",
    "    from google.colab import drive\n",
    "    drive.mount('/content/drive', force_remount=True)   # Mount your drive"
   ]
  },
  {
   "cell_type": "markdown",
   "metadata": {
    "id": "pQ0qofIXRo1e"
   },
   "source": [
    "\n",
    "1.   Set input data directory\n",
    "2.   Set cbc solver path\n"
   ]
  },
  {
   "cell_type": "code",
   "execution_count": null,
   "metadata": {
    "executionInfo": {
     "elapsed": 2,
     "status": "ok",
     "timestamp": 1739527735966,
     "user": {
      "displayName": "Raffaele Pesenti",
      "userId": "17290595898137229952"
     },
     "user_tz": -60
    },
    "id": "GHMi0oGpR-D1",
    "tags": []
   },
   "outputs": [],
   "source": [
    "if working_in_colab:\n",
    "    input_directory = \"/content/drive/MyDrive/Corrente/Colab Notebooks/MDMM/BasicModels/Input/\" # set the path of the directory of the json data file, e.g., \"/content/drive/MyDrive/Corrente/Colab Notebooks/BasicModels/Input/\"\n",
    "    cbc_path = \"/usr/bin/cbc\"\n",
    "else:\n",
    "    input_directory = \"./input/\"\n",
    "    cbc_path = \"C:/Program Files/Cbc/bin/cbc.exe\" # write the path of the cbc.exe file on your pc"
   ]
  },
  {
   "cell_type": "markdown",
   "metadata": {
    "id": "YVnhF-5-8eMa"
   },
   "source": [
    "# A Knapsack problem\n",
    "We wish to choose among items of different utility and\n",
    "weight those that result in the maximum total utility for\n",
    "a given weight limit.\n",
    "\n",
    "Suppose you are planning a picnic.\n",
    "You've constructed a list of items you would like to carry with you on the picnic.\n",
    "Each item has a weight associated with it and your knapsack is limited to carrying no more than 15 pounds.\n",
    "You have also come up with a 1 to 10 rating for each item, which indicates how strongly you want to include the particular item in the knapsack for the picnic.\n",
    "This information is listed in the table below.\n",
    "\n",
    "\\begin{matrix}\n",
    "Item &  Weight & Rating \\\\\n",
    "Ant\\,Repellent & 1 & 2 \\\\\n",
    "Beer & 3 & 9 \\\\\n",
    "Blanket & 4 & 3\\\\\n",
    "Bratwurst & 3 & 8 \\\\\n",
    "Brownies & 3& 10\\\\\n",
    "Frisbee & 1 & 6\\\\\n",
    "Salad & 5 & 4\\\\\n",
    "Watermelon & 10 & 10\\\\\n",
    "\\end{matrix}"
   ]
  },
  {
   "cell_type": "markdown",
   "metadata": {
    "id": "32Q8q5FXhxWX"
   },
   "source": [
    "## Model formulation ##\n",
    "\n",
    "$$\n",
    "\\begin{align*}\n",
    "\\max ~& 2 x_1 + 9 x_2 + 3 x_3 + 8 x_4 + 10 x_5 + 6 x_6 + 4 x_7 + 10 x_8\\\\\n",
    "& x_1 + 3 x_2 + 4 x_3 + 3 x_4 + 3 x_5 + x_6 + 5 x_7 + 10 x_8 \\le 15\\\\\n",
    "&x_j \\ge 0 \\text{ for } j = 1,\\ldots,8\n",
    "\\end{align*}\n",
    "$$\n",
    "\n",
    "This model is a **binary linear programming** model. \n",
    "It is **linear** because the objective function and the constraints are linear functions of the decision variables.\n",
    "It is **binary** because the decision variables are restricted to be either 0 or 1.\n"
   ]
  },
  {
   "cell_type": "code",
   "execution_count": null,
   "metadata": {
    "colab": {
     "base_uri": "https://localhost:8080/"
    },
    "executionInfo": {
     "elapsed": 762,
     "status": "ok",
     "timestamp": 1739527819308,
     "user": {
      "displayName": "Raffaele Pesenti",
      "userId": "17290595898137229952"
     },
     "user_tz": -60
    },
    "id": "J-TvMA739yA7",
    "outputId": "f01f9d67-c1ba-46e2-db30-9c794b2b34fa",
    "tags": []
   },
   "outputs": [],
   "source": [
    "import pyomo.environ as pyo\n",
    "import json\n",
    "\n",
    "def read_dictionary_from_json(buffer):\n",
    "    with open(buffer, 'r') as fp:\n",
    "        dictionary = json.load(fp)\n",
    "    return dictionary, None\n",
    "\n",
    "# create a model\n",
    "model = pyo.ConcreteModel(name=\"Knapsack\")\n",
    "\n",
    "# Read the model parameters\n",
    "dict_data, msg =read_dictionary_from_json(f\"{input_directory}knapsack.json\")\n",
    "if msg: raise Exception(msg)\n",
    "\n",
    "print(\"Knapsack model\")\n",
    "\n",
    "# Declare decision variables\n",
    "model.x = pyo.Var(dict_data['Items'].keys(), domain=pyo.Binary)\n",
    "\n",
    "# declare objective\n",
    "model.Utility = pyo.Objective(expr = sum(dict_data['Items'][key]['rating']*model.x[key] for key in dict_data['Items']), sense=pyo.maximize)\n",
    "\n",
    "# declare constraint\n",
    "model.WeightConst = pyo.Constraint(expr = sum(dict_data['Items'][key]['weight']*model.x[key] for key in dict_data['Items']) <= dict_data['MaxWeight'], name = 'Weight constraint')\n",
    "\n",
    "model.pprint()\n",
    "# declare objective\n",
    "model.Utility = pyo.Objective(expr = sum(dict_data['Items'][key]['rating']*model.x[key] for key in dict_data['Items']), sense=pyo.maximize)\n",
    "\n",
    "# declare constraint\n",
    "model.WeightConst = pyo.Constraint(expr = sum(dict_data['Items'][key]['weight']*model.x[key] for key in dict_data['Items']) <= dict_data['MaxWeight'], name = 'Weight constraint')\n",
    "\n",
    "model.pprint()\n"
   ]
  },
  {
   "cell_type": "markdown",
   "metadata": {
    "id": "3y0tsFT-h39u"
   },
   "source": [
    "## Model solution ##"
   ]
  },
  {
   "cell_type": "code",
   "execution_count": null,
   "metadata": {
    "colab": {
     "base_uri": "https://localhost:8080/"
    },
    "executionInfo": {
     "elapsed": 312,
     "status": "ok",
     "timestamp": 1739528011800,
     "user": {
      "displayName": "Raffaele Pesenti",
      "userId": "17290595898137229952"
     },
     "user_tz": -60
    },
    "id": "erf5g_Uv-12r",
    "outputId": "4a7b131b-8900-4552-be68-baa9eb8b4750",
    "tags": []
   },
   "outputs": [],
   "source": [
    "# solve the model\n",
    "opt = pyo.SolverFactory('cbc', executable=cbc_path)\n",
    "results = opt.solve(model, tee=True)\n",
    "\n",
    "# display solution\n",
    "if (results.solver.status == pyo.SolverStatus.ok) and (results.solver.termination_condition == pyo.TerminationCondition.optimal):\n",
    "    print('\\nOptimal solution found')\n",
    "elif (results.solver.termination_condition == pyo.TerminationCondition.feasible):\n",
    "    print('\\nFeasible but not proven optimal solution found')\n",
    "elif (results.solver.termination_condition == pyo.TerminationCondition.infeasible):\n",
    "    raise Exception(\"The model is infeasible\")\n",
    "else:\n",
    "    # Something else is wrong\n",
    "    print('\\nSolver Status: ',  results.solver.status)\n",
    "    raise Exception(results.solver.status)\n",
    "\n",
    "# display optimal values of decision variables\n",
    "print('\\nObject function value = ', model.Utility())\n",
    "\n",
    "print('\\nDecision Variables')\n",
    "for key in dict_data[\"Items\"]:\n",
    "    print(f\"x[{key}]: {int(model.x[key]()):d}, weight: {dict_data['Items'][key]['weight']:d}, rating: {dict_data['Items'][key]['rating']:d}\")\n",
    "\n",
    "print('\\nConstraints')\n",
    "model.WeightConst.display()"
   ]
  }
 ],
 "metadata": {
  "colab": {
   "provenance": [
    {
     "file_id": "1UhGfbGyY8Z7uax85DaHXw2Q5S51Zv5u_",
     "timestamp": 1674745204138
    },
    {
     "file_id": "12DA3AyHe_QoXQAuViWMWyiOoRaZKi2Ch",
     "timestamp": 1674466061234
    }
   ]
  },
  "kernelspec": {
   "display_name": "Python 3",
   "language": "python",
   "name": "python3"
  },
  "language_info": {
   "codemirror_mode": {
    "name": "ipython",
    "version": 3
   },
   "file_extension": ".py",
   "mimetype": "text/x-python",
   "name": "python",
   "nbconvert_exporter": "python",
   "pygments_lexer": "ipython3",
   "version": "3.12.7"
  }
 },
 "nbformat": 4,
 "nbformat_minor": 0
}
